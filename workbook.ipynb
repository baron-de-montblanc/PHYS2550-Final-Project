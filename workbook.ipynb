{
 "cells": [
  {
   "cell_type": "markdown",
   "metadata": {},
   "source": [
    "# Galaxy Cluster Redshift Classification Using Machine Learning\n",
    "\n",
    "Spring 2024 - PHYS 2550 - Final Project\n",
    "\n",
    "*Jade Ducharme, Zacharias Escalante, Fei Fan, Soren Helhoski, Shi Yan*"
   ]
  },
  {
   "cell_type": "markdown",
   "metadata": {},
   "source": [
    "This project aims to develop a machine learning model for classifying the redshifts of background\n",
    "galaxies behind galaxy clusters using observational cosmology. By leveraging photometric proper-\n",
    "ties of stars and galaxies, the project seeks to calculate new redshift values for each galaxy and\n",
    "compare these with known spectroscopic redshift values to evaluate the model’s accuracy."
   ]
  },
  {
   "cell_type": "code",
   "execution_count": null,
   "metadata": {},
   "outputs": [],
   "source": [
    "# import necessary packages"
   ]
  },
  {
   "cell_type": "markdown",
   "metadata": {},
   "source": []
  }
 ],
 "metadata": {
  "kernelspec": {
   "display_name": "final_project",
   "language": "python",
   "name": "python3"
  },
  "language_info": {
   "name": "python",
   "version": "3.10.14"
  }
 },
 "nbformat": 4,
 "nbformat_minor": 2
}
